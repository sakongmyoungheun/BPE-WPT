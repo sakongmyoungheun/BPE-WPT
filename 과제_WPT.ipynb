{
  "nbformat": 4,
  "nbformat_minor": 0,
  "metadata": {
    "colab": {
      "provenance": [],
      "include_colab_link": true
    },
    "kernelspec": {
      "name": "python3",
      "display_name": "Python 3"
    },
    "language_info": {
      "name": "python"
    }
  },
  "cells": [
    {
      "cell_type": "markdown",
      "metadata": {
        "id": "view-in-github",
        "colab_type": "text"
      },
      "source": [
        "<a href=\"https://colab.research.google.com/github/sakongmyoungheun/BPE-WPT/blob/main/%EA%B3%BC%EC%A0%9C_WPT.ipynb\" target=\"_parent\"><img src=\"https://colab.research.google.com/assets/colab-badge.svg\" alt=\"Open In Colab\"/></a>"
      ]
    },
    {
      "cell_type": "markdown",
      "source": [
        "# WordPiece Tokenizer\n",
        "* Google 이 BERT 를 사전학습하기 위해 개발한 토큰화 알고리즘\n",
        "* BPE 와 매우 유사하지만 별도의 가중치를 부과\n",
        "* 해당 Score\n",
        "![image.png](data:image/png;base64,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)"
      ],
      "metadata": {
        "id": "hkQ8os7NchFt"
      }
    },
    {
      "cell_type": "code",
      "source": [
        "w1 = \"low\"\n",
        "w2 = \"lower\"\n",
        "w3 = \"newest\"\n",
        "w4 = \"widest\"\n",
        "w5 = \"hugs\"\n"
      ],
      "metadata": {
        "id": "u9NjLu6Ljrf1"
      },
      "execution_count": null,
      "outputs": []
    },
    {
      "cell_type": "code",
      "source": [
        "word_freq_base = {\n",
        "    \"w1\": 5,\n",
        "    \"w2\": 7,\n",
        "    \"w3\": 6,\n",
        "    \"w4\": 3,\n",
        "    \"w5\": 11\n",
        "}\n",
        "\n",
        "# \"low\": 5번\n",
        "# \"lower\": 7번\n",
        "# \"newest\": 6번\n",
        "# \"widest\": 3번\n",
        "# \"hugs\": 11번"
      ],
      "metadata": {
        "id": "59vrjkVBkllp"
      },
      "execution_count": null,
      "outputs": []
    },
    {
      "cell_type": "markdown",
      "source": [
        "# Step 1.\n",
        "* 형태소(글자, character)수준으로 분리\n",
        "* 접두어가 아닌 이상 \"##\" 으로 모두 분리\n",
        "* 각 형태소의 빈도 파악"
      ],
      "metadata": {
        "id": "q9SW-9yHkoSd"
      }
    },
    {
      "cell_type": "code",
      "source": [
        "def split_WPT(word):\n",
        "    result = []\n",
        "    word_list = list(word)\n",
        "    for i in range(len(word_list)):\n",
        "        if ( i == 0):\n",
        "            result.append(word_list[i])\n",
        "        else:\n",
        "            result.append(\"##\" + word_list[i])\n",
        "\n",
        "    return result"
      ],
      "metadata": {
        "id": "oy_gN0ZZk1ta"
      },
      "execution_count": null,
      "outputs": []
    },
    {
      "cell_type": "code",
      "source": [
        "w1 = split_WPT(w1)\n",
        "w2 = split_WPT(w2)\n",
        "w3 = split_WPT(w3)\n",
        "w4 = split_WPT(w4)\n",
        "w5 = split_WPT(w5)\n",
        "\n",
        "print(f\"w1 : {w1}\")\n",
        "print(f\"w2 : {w2}\")\n",
        "print(f\"w3 : {w3}\")\n",
        "print(f\"w4 : {w4}\")\n",
        "print(f\"w5 : {w5}\")\n",
        "\n",
        "# \"low\": 5번\n",
        "# \"lower\": 7번\n",
        "# \"newest\": 6번\n",
        "# \"widest\": 3번\n",
        "# \"hugs\": 11번\n",
        "\n",
        "# w1 : ['l', '##o', '##w']\n",
        "# w2 : ['l', '##o', '##w', '##e', '##r']\n",
        "# w3 : ['n', '##e', '##w', '##e', '##s', '##t']\n",
        "# w4 : ['w', '##i', '##d', '##e', '##s', '##t']\n",
        "# w5 : ['h', '##u', '##g', '##s']"
      ],
      "metadata": {
        "colab": {
          "base_uri": "https://localhost:8080/"
        },
        "id": "BoJ2JFVemvQF",
        "outputId": "3e47ea9b-156c-45a8-e364-0c95a84b0c8b"
      },
      "execution_count": null,
      "outputs": [
        {
          "output_type": "stream",
          "name": "stdout",
          "text": [
            "w1 : ['l', '##o', '##w']\n",
            "w2 : ['l', '##o', '##w', '##e', '##r']\n",
            "w3 : ['n', '##e', '##w', '##e', '##s', '##t']\n",
            "w4 : ['w', '##i', '##d', '##e', '##s', '##t']\n",
            "w5 : ['h', '##u', '##g', '##s']\n"
          ]
        }
      ]
    },
    {
      "cell_type": "code",
      "source": [
        "first_voca = list(set(w1 + w2 + w3 + w4 + w5))\n",
        "\n",
        "print(first_voca)"
      ],
      "metadata": {
        "colab": {
          "base_uri": "https://localhost:8080/"
        },
        "id": "SSKgA6Ukp0x9",
        "outputId": "b5906a7d-e181-4cec-b568-1af1f1019bfe"
      },
      "execution_count": null,
      "outputs": [
        {
          "output_type": "stream",
          "name": "stdout",
          "text": [
            "['l', 'w', '##s', 'n', '##d', '##o', '##u', '##t', '##r', '##w', 'h', '##e', '##g', '##i']\n"
          ]
        }
      ]
    },
    {
      "cell_type": "code",
      "source": [
        "word_freq = {\n",
        "    \"h\": word_freq_base[\"w5\"],\n",
        "    \"w\": word_freq_base[\"w4\"],\n",
        "    \"n\": word_freq_base[\"w1\"],\n",
        "    \"l\": word_freq_base[\"w1\"] + word_freq_base[\"w2\"],\n",
        "    \"##w\": word_freq_base[\"w1\"] + word_freq_base[\"w2\"] + word_freq_base[\"w3\"],\n",
        "    \"##o\": word_freq_base[\"w1\"] + word_freq_base[\"w2\"],\n",
        "    \"##d\": word_freq_base[\"w4\"],\n",
        "    \"##r\": word_freq_base[\"w2\"],\n",
        "    \"##u\": word_freq_base[\"w5\"],\n",
        "    \"##t\": word_freq_base[\"w3\"] + word_freq_base[\"w4\"],\n",
        "    \"##i\": word_freq_base[\"w4\"],\n",
        "    \"##e\": word_freq_base[\"w2\"] + word_freq_base[\"w3\"] + word_freq_base[\"w4\"],\n",
        "    \"##g\": word_freq_base[\"w5\"],\n",
        "    \"##s\": word_freq_base[\"w3\"] + word_freq_base[\"w4\"] + word_freq_base[\"w5\"]\n",
        "}\n",
        "\n",
        "for key in word_freq.keys():\n",
        "    print(f'\"{key}\" 의 빈도수: {word_freq[key]}번')"
      ],
      "metadata": {
        "colab": {
          "base_uri": "https://localhost:8080/"
        },
        "id": "SqgQsX3pU6YK",
        "outputId": "66a31f6d-5309-4594-8224-4b578e6daa8b"
      },
      "execution_count": null,
      "outputs": [
        {
          "output_type": "stream",
          "name": "stdout",
          "text": [
            "\"h\" 의 빈도수: 11번\n",
            "\"w\" 의 빈도수: 3번\n",
            "\"n\" 의 빈도수: 5번\n",
            "\"l\" 의 빈도수: 12번\n",
            "\"##w\" 의 빈도수: 18번\n",
            "\"##o\" 의 빈도수: 12번\n",
            "\"##d\" 의 빈도수: 3번\n",
            "\"##r\" 의 빈도수: 7번\n",
            "\"##u\" 의 빈도수: 11번\n",
            "\"##t\" 의 빈도수: 9번\n",
            "\"##i\" 의 빈도수: 3번\n",
            "\"##e\" 의 빈도수: 16번\n",
            "\"##g\" 의 빈도수: 11번\n",
            "\"##s\" 의 빈도수: 20번\n"
          ]
        }
      ]
    },
    {
      "cell_type": "markdown",
      "source": [
        "### Step 2.\n",
        "* 연속한 pair를 만들고 각각의 빈도를 탐색\n",
        "* 특정 가중치 부여"
      ],
      "metadata": {
        "id": "ixyh4v9Hm1fo"
      }
    },
    {
      "cell_type": "code",
      "source": [
        "# \"low\": 5번\n",
        "# \"lower\": 7번\n",
        "# \"newest\": 6번\n",
        "# \"widest\": 3번\n",
        "# \"hugs\": 11번\n",
        "\n",
        "w1_pair = [\"lo\", \"##ow\"]\n",
        "w2_pair = [\"lo\", \"##ow\", \"##we\", \"##er\"]\n",
        "w3_pair = [\"ne\", \"##ew\", \"##we\", \"##es\", \"##st\"]\n",
        "w4_pair = [\"wi\", \"##id\", \"##de\", \"##es\", \"##st\"]\n",
        "w5_pair = [\"hu\", \"##ug\", \"##gs\"]"
      ],
      "metadata": {
        "id": "eyt899Yl7DXb"
      },
      "execution_count": null,
      "outputs": []
    },
    {
      "cell_type": "code",
      "source": [
        "word_score = {\n",
        "    \"lo\": (word_freq_base[\"w1\"] + word_freq_base[\"w2\"]) / (word_freq[\"l\"] * word_freq[\"##o\"]),\n",
        "    \"##ow\": (word_freq_base[\"w1\"] + word_freq_base[\"w2\"]) / (word_freq[\"##o\"] * word_freq[\"##w\"]) ,\n",
        "    \"##we\": (word_freq_base[\"w2\"] + word_freq_base[\"w3\"]) / (word_freq[\"##w\"] * word_freq[\"##e\"]),\n",
        "    \"##er\": (word_freq_base[\"w2\"]) / (word_freq[\"##e\"] * word_freq[\"##r\"]),\n",
        "    \"ne\": (word_freq_base[\"w3\"]) / (word_freq[\"n\"] * word_freq[\"##e\"]),\n",
        "    \"##ew\": (word_freq_base[\"w3\"]) / (word_freq[\"##e\"] * word_freq[\"##w\"]),\n",
        "    \"##es\": (word_freq_base[\"w3\"] + word_freq_base[\"w4\"]) / (word_freq[\"##e\"] * word_freq[\"##s\"]),\n",
        "    \"##st\": (word_freq_base[\"w3\"] + word_freq_base[\"w4\"]) / (word_freq[\"##s\"] * word_freq[\"##t\"]),\n",
        "    \"wi\": (word_freq_base[\"w4\"]) / (word_freq[\"w\"] * word_freq[\"##i\"]),\n",
        "    \"##id\": (word_freq_base[\"w4\"]) / (word_freq[\"##i\"] * word_freq[\"##d\"]),\n",
        "    \"##de\": (word_freq_base[\"w4\"]) / (word_freq[\"##d\"] * word_freq[\"##e\"]),\n",
        "    \"hu\": (word_freq_base[\"w5\"]) / (word_freq[\"h\"] * word_freq[\"##u\"]),\n",
        "    \"##ug\": (word_freq_base[\"w5\"]) / (word_freq[\"##u\"] * word_freq[\"##g\"]),\n",
        "    \"##gs\": (word_freq_base[\"w5\"]) / (word_freq[\"##g\"] * word_freq[\"##s\"]),\n",
        "}\n",
        "\n",
        "print(word_score)\n",
        "max_key = max(word_score, key=word_score.get)\n",
        "max_value = word_score[max_key]\n",
        "print(f'{max_key} : {max_value}')"
      ],
      "metadata": {
        "colab": {
          "base_uri": "https://localhost:8080/"
        },
        "id": "JJiwobEDT1p6",
        "outputId": "74af5fdc-190c-45fe-bfd1-b325b0475e22"
      },
      "execution_count": null,
      "outputs": [
        {
          "output_type": "stream",
          "name": "stdout",
          "text": [
            "{'lo': 0.08333333333333333, '##ow': 0.05555555555555555, '##we': 0.04513888888888889, '##er': 0.0625, 'ne': 0.075, '##ew': 0.020833333333333332, '##es': 0.028125, '##st': 0.05, 'wi': 0.3333333333333333, '##id': 0.3333333333333333, '##de': 0.0625, 'hu': 0.09090909090909091, '##ug': 0.09090909090909091, '##gs': 0.05}\n",
            "wi : 0.3333333333333333\n"
          ]
        }
      ]
    },
    {
      "cell_type": "markdown",
      "source": [
        "### Step 3.\n",
        "* Score 가 가장 높은 pair (\"wi\") 만 merge\n",
        "* Score 가 동일할 경우 사용자의 선택에 따라 고를 수 있다."
      ],
      "metadata": {
        "id": "HGwYlZcKs9kT"
      }
    },
    {
      "cell_type": "code",
      "source": [
        "w1_second = ['l', '##o', '##w']\n",
        "w2_second = ['l', '##o', '##w', '##e', '##r']\n",
        "w3_second = ['n', '##e', '##w', '##e', '##s', '##t']\n",
        "w4_second = ['wi', '##d', '##e', '##s', '##t']\n",
        "w5_second = ['h', '##u', '##g', '##s']\n",
        "\n",
        "print(f\"w1 : {w1_second}\")\n",
        "print(f\"w2 : {w2_second}\")\n",
        "print(f\"w3 : {w3_second}\")\n",
        "print(f\"w4 : {w4_second}\")\n",
        "print(f\"w5 : {w5_second}\")"
      ],
      "metadata": {
        "colab": {
          "base_uri": "https://localhost:8080/"
        },
        "id": "N1M0A78Vvhuf",
        "outputId": "ccb60458-d165-49f2-cdf2-6c15d0a7cf02"
      },
      "execution_count": null,
      "outputs": [
        {
          "output_type": "stream",
          "name": "stdout",
          "text": [
            "w1 : ['l', '##o', '##w']\n",
            "w2 : ['l', '##o', '##w', '##e', '##r']\n",
            "w3 : ['n', '##e', '##w', '##e', '##s', '##t']\n",
            "w4 : ['wi', '##d', '##e', '##s', '##t']\n",
            "w5 : ['h', '##u', '##g', '##s']\n"
          ]
        }
      ]
    },
    {
      "cell_type": "markdown",
      "source": [
        "### Step 4.\n",
        "* 이 과정을 원하는 merge size 혹은 vocabulary size에 도달할 때 까지 수행\n",
        "* merge size = 2 라고 가정"
      ],
      "metadata": {
        "id": "Se0G0lZ9wlks"
      }
    },
    {
      "cell_type": "code",
      "source": [
        "word_second_freq = {\n",
        "    \"h\": word_freq_base[\"w5\"],\n",
        "    \"wi\": word_freq_base[\"w4\"],\n",
        "    \"n\": word_freq_base[\"w1\"],\n",
        "    \"l\": word_freq_base[\"w1\"] + word_freq_base[\"w2\"],\n",
        "    \"##w\": word_freq_base[\"w1\"] + word_freq_base[\"w2\"] + word_freq_base[\"w3\"],\n",
        "    \"##o\": word_freq_base[\"w1\"] + word_freq_base[\"w2\"],\n",
        "    \"##d\": word_freq_base[\"w4\"],\n",
        "    \"##r\": word_freq_base[\"w2\"],\n",
        "    \"##u\": word_freq_base[\"w5\"],\n",
        "    \"##t\": word_freq_base[\"w3\"] + word_freq_base[\"w4\"],\n",
        "    \"##e\": word_freq_base[\"w2\"] + word_freq_base[\"w3\"] + word_freq_base[\"w4\"],\n",
        "    \"##g\": word_freq_base[\"w5\"],\n",
        "    \"##s\": word_freq_base[\"w3\"] + word_freq_base[\"w4\"] + word_freq_base[\"w5\"]\n",
        "\n",
        "}\n",
        "\n",
        "for key in word_second_freq.keys():\n",
        "    print(f'\"{key}\" 의 빈도수: {word_second_freq[key]}번')"
      ],
      "metadata": {
        "colab": {
          "base_uri": "https://localhost:8080/"
        },
        "id": "d72Qsgp_JB9c",
        "outputId": "4cb519e6-0897-4073-96a4-c2a50f6fc680"
      },
      "execution_count": null,
      "outputs": [
        {
          "output_type": "stream",
          "name": "stdout",
          "text": [
            "\"h\" 의 빈도수: 11번\n",
            "\"wi\" 의 빈도수: 3번\n",
            "\"n\" 의 빈도수: 5번\n",
            "\"l\" 의 빈도수: 12번\n",
            "\"##w\" 의 빈도수: 18번\n",
            "\"##o\" 의 빈도수: 12번\n",
            "\"##d\" 의 빈도수: 3번\n",
            "\"##r\" 의 빈도수: 7번\n",
            "\"##u\" 의 빈도수: 11번\n",
            "\"##t\" 의 빈도수: 9번\n",
            "\"##e\" 의 빈도수: 16번\n",
            "\"##g\" 의 빈도수: 11번\n",
            "\"##s\" 의 빈도수: 20번\n"
          ]
        }
      ]
    },
    {
      "cell_type": "code",
      "source": [
        "w1_pair = [\"lo\", \"##ow\"]\n",
        "w2_pair = [\"lo\", \"##ow\", \"##we\", \"##er\"]\n",
        "w3_pair = [\"ne\", \"##ew\", \"##we\", \"##es\", \"##st\"]\n",
        "w4_pair = [\"wid\", \"##de\", \"##es\", \"##st\"]\n",
        "w5_pair = [\"hu\", \"##ug\", \"##gs\"]"
      ],
      "metadata": {
        "id": "13cn0g-pIwnk"
      },
      "execution_count": null,
      "outputs": []
    },
    {
      "cell_type": "code",
      "source": [
        "word_second_score = {\n",
        "    \"lo\": (word_freq_base[\"w1\"] + word_freq_base[\"w2\"]) / (word_second_freq[\"l\"] * word_second_freq[\"##o\"]),\n",
        "    \"##ow\": (word_freq_base[\"w1\"] + word_freq_base[\"w2\"]) / (word_second_freq[\"##o\"] * word_second_freq[\"##w\"]) ,\n",
        "    \"##we\": (word_freq_base[\"w2\"] + word_freq_base[\"w3\"]) / (word_second_freq[\"##w\"] * word_second_freq[\"##e\"]),\n",
        "    \"##er\": (word_freq_base[\"w2\"]) / (word_second_freq[\"##e\"] * word_second_freq[\"##r\"]),\n",
        "    \"ne\": (word_freq_base[\"w3\"]) / (word_second_freq[\"n\"] * word_second_freq[\"##e\"]),\n",
        "    \"##ew\": (word_freq_base[\"w3\"]) / (word_second_freq[\"##e\"] * word_second_freq[\"##w\"]),\n",
        "    \"##es\": (word_freq_base[\"w3\"] + word_freq_base[\"w4\"]) / (word_second_freq[\"##e\"] * word_second_freq[\"##s\"]),\n",
        "    \"##st\": (word_freq_base[\"w3\"] + word_freq_base[\"w4\"]) / (word_second_freq[\"##s\"] * word_second_freq[\"##t\"]),\n",
        "    \"wid\": (word_freq_base[\"w4\"]) / (word_second_freq[\"wi\"] * word_second_freq[\"##d\"]),\n",
        "    \"##de\": (word_freq_base[\"w4\"]) / (word_second_freq[\"##d\"] * word_second_freq[\"##e\"]),\n",
        "    \"hu\": (word_freq_base[\"w5\"]) / (word_second_freq[\"h\"] * word_second_freq[\"##u\"]),\n",
        "    \"##ug\": (word_freq_base[\"w5\"]) / (word_second_freq[\"##u\"] * word_second_freq[\"##g\"]),\n",
        "    \"##gs\": (word_freq_base[\"w5\"]) / (word_second_freq[\"##g\"] * word_second_freq[\"##s\"])\n",
        "}\n",
        "\n",
        "print(word_second_score)\n",
        "max_key = max(word_second_score, key=word_second_score.get)\n",
        "max_value = word_second_score[max_key]\n",
        "print(f'{max_key} : {max_value}')"
      ],
      "metadata": {
        "colab": {
          "base_uri": "https://localhost:8080/"
        },
        "id": "GumX09QSI-jm",
        "outputId": "c57cd08d-566e-4670-cc46-88ab289bbabc"
      },
      "execution_count": null,
      "outputs": [
        {
          "output_type": "stream",
          "name": "stdout",
          "text": [
            "{'lo': 0.08333333333333333, '##ow': 0.05555555555555555, '##we': 0.04513888888888889, '##er': 0.0625, 'ne': 0.075, '##ew': 0.020833333333333332, '##es': 0.028125, '##st': 0.05, 'wid': 0.3333333333333333, '##de': 0.0625, 'hu': 0.09090909090909091, '##ug': 0.09090909090909091, '##gs': 0.05}\n",
            "wid : 0.3333333333333333\n"
          ]
        }
      ]
    },
    {
      "cell_type": "code",
      "source": [
        "w1_third = ['l', '##o', '##w']\n",
        "w2_third = ['l', '##o', '##w', '##e', '##r']\n",
        "w3_third = ['n', '##e', '##w', '##e', '##s', '##t']\n",
        "w4_third = ['wid', '##e', '##s', '##t']\n",
        "w5_third = ['h', '##u', '##g', '##s']"
      ],
      "metadata": {
        "id": "VRM4026A7Tlv"
      },
      "execution_count": null,
      "outputs": []
    },
    {
      "cell_type": "code",
      "source": [
        "last_voca = list(set(first_voca + w1_third + w2_third + w3_third + w4_third + w5_third))\n",
        "print(last_voca)"
      ],
      "metadata": {
        "colab": {
          "base_uri": "https://localhost:8080/"
        },
        "id": "Casy9AVfd29O",
        "outputId": "9618ad38-ca93-4dbb-d7bc-4813f130fc7d"
      },
      "execution_count": null,
      "outputs": [
        {
          "output_type": "stream",
          "name": "stdout",
          "text": [
            "['l', 'w', '##s', 'wid', '##d', 'n', '##o', '##u', '##t', '##r', '##w', 'h', '##e', '##g', '##i']\n"
          ]
        }
      ]
    },
    {
      "cell_type": "markdown",
      "source": [
        "### Setp 5.\n",
        "* 적용\n",
        "* 예시 문장\n",
        "```\n",
        "ex_sentence = \"bugs hg hn puugs bun\"\n",
        "WPTed(ex_sentence) = [\"bu\", \"##gs\", \"h\", \"##g\", \"h\", \"##n\", \"p\", \"##u\", \"##u\", \"##gs\", \"bu\", \"##n\"]\n",
        "```\n",
        "* 주의사항\n",
        "    * ##g, ##gs 처럼 포함되는 길이의 경우 긴 길이의 단어를 우선적으로 고려한다.\n",
        "    * 단어사전을 길이를 기준으로 sort 한 이후에 for 문을 돌려 앞에서부터 고려하고 발견하면 멈추는 것을 사용하는 듯 하다"
      ],
      "metadata": {
        "id": "Z_mNUkoAd9oM"
      }
    }
  ]
}